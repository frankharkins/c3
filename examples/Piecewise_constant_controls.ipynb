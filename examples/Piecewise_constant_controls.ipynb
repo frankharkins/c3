{
 "cells": [
  {
   "cell_type": "markdown",
   "metadata": {},
   "source": [
    "# Optimal control with piecewise constant parametrization"
   ]
  },
  {
   "cell_type": "markdown",
   "metadata": {},
   "source": [
    "## Setting up the electronics model"
   ]
  },
  {
   "cell_type": "code",
   "execution_count": 1,
   "metadata": {},
   "outputs": [],
   "source": [
    "import numpy as np\n",
    "import pytest\n",
    "from copy import deepcopy\n",
    "from c3.c3objs import Quantity\n",
    "from c3.generator.generator import Generator\n",
    "from c3.generator.devices import (\n",
    "    LO,\n",
    "    AWG,\n",
    "    Mixer,\n",
    "    DigitalToAnalog,\n",
    "    VoltsToHertz,\n",
    ")\n",
    "from c3.signal.pulse import Envelope, Carrier\n",
    "from c3.libraries.envelopes import pwc\n",
    "from c3.libraries import hamiltonians\n",
    "from c3.signal.gates import Instruction\n",
    "from c3.model import Model\n",
    "from c3.libraries import chip\n",
    "from c3.parametermap import ParameterMap\n",
    "from c3.experiment import Experiment"
   ]
  },
  {
   "cell_type": "code",
   "execution_count": 2,
   "metadata": {},
   "outputs": [],
   "source": [
    "sim_res = 100e9  # Resolution for numerical simulation\n",
    "awg_res = 2e9  # Realistic, limited resolution of an AWG\n",
    "\n",
    "lo = LO(name=\"lo\", resolution=sim_res, outputs=1)\n",
    "awg = AWG(name=\"awg\", resolution=awg_res, outputs=1)\n",
    "\n",
    "dac = DigitalToAnalog(name=\"dac\", resolution=sim_res, inputs=1, outputs=1)\n",
    "mixer = Mixer(name=\"mixer\", inputs=2, outputs=1)\n",
    "v_to_hz = VoltsToHertz(\n",
    "    name=\"v_to_hz\",\n",
    "    V_to_Hz=Quantity(value=1e9, min_val=0.9e9, max_val=1.1e9, unit=\"Hz/V\"),\n",
    "    inputs=1,\n",
    "    outputs=1,\n",
    ")\n",
    "\n",
    "generator = Generator(\n",
    "    devices={\n",
    "        \"LO\": lo,\n",
    "        \"AWG\": awg,\n",
    "        \"DigitalToAnalog\": dac,\n",
    "        \"Mixer\": mixer,\n",
    "        \"VoltsToHertz\": v_to_hz,\n",
    "    },\n",
    "    chains={\n",
    "        \"d1\": {\n",
    "            \"LO\": [],\n",
    "            \"AWG\": [],\n",
    "            \"DigitalToAnalog\": [\"AWG\"],\n",
    "            \"Mixer\": [\"LO\", \"DigitalToAnalog\"],\n",
    "            \"VoltsToHertz\": [\"Mixer\"],\n",
    "        },\n",
    "    },\n",
    ")"
   ]
  },
  {
   "cell_type": "markdown",
   "metadata": {},
   "source": [
    "## PWC Gate Definition"
   ]
  },
  {
   "cell_type": "code",
   "execution_count": 3,
   "metadata": {},
   "outputs": [],
   "source": [
    "t_final = 7e-9  # Time for single qubit gates\n",
    "slices = int(t_final * awg_res)\n",
    "\n",
    "pwc_params = {\n",
    "    \"inphase\": Quantity(value=np.random.randn(slices), unit=\"V\"),\n",
    "    \"quadrature\": Quantity(value=np.random.randn(slices), unit=\"V\"),\n",
    "    \"amp\": Quantity(value=1.0, unit=\"V\"),\n",
    "    \"xy_angle\": Quantity(\n",
    "        value=0.0, min_val=-0.5 * np.pi, max_val=2.5 * np.pi, unit=\"rad\"\n",
    "    ),\n",
    "    \"freq_offset\": Quantity(value=0, min_val=-5 * 1e6, max_val=5 * 1e6, unit=\"Hz 2pi\"),\n",
    "}\n",
    "\n",
    "pwc_env_single = Envelope(\n",
    "    name=\"pwc\",\n",
    "    desc=\"piecewise constant\",\n",
    "    params=pwc_params,\n",
    "    shape=pwc,\n",
    ")\n",
    "\n",
    "lo_freq_q1 = 5e9\n",
    "carrier_parameters = {\n",
    "    \"freq\": Quantity(value=lo_freq_q1, min_val=4.5e9, max_val=6e9, unit=\"Hz 2pi\"),\n",
    "    \"framechange\": Quantity(value=0.0, min_val=-np.pi, max_val=3 * np.pi, unit=\"rad\"),\n",
    "}\n",
    "carr = Carrier(\n",
    "    name=\"carrier\", desc=\"Frequency of the local oscillator\", params=carrier_parameters\n",
    ")\n",
    "\n",
    "pulse_gate = Instruction(name=\"rx90p\", t_start=0.0, t_end=t_final, channels=[\"d1\"], targets = [0])\n",
    "pulse_gate.add_component(pwc_env_single, \"d1\")\n",
    "pulse_gate.add_component(carr, \"d1\")"
   ]
  },
  {
   "cell_type": "markdown",
   "metadata": {},
   "source": [
    "## Setting up the Qubit model"
   ]
  },
  {
   "cell_type": "code",
   "execution_count": 4,
   "metadata": {},
   "outputs": [],
   "source": [
    "q1 = chip.Qubit(\n",
    "    name=\"Q1\",\n",
    "    desc=\"Qubit 1\",\n",
    "    freq=Quantity(\n",
    "        value=5e9,\n",
    "        min_val=4.995e9,\n",
    "        max_val=5.005e9,\n",
    "        unit=\"Hz 2pi\",\n",
    "    ),\n",
    "    anhar=Quantity(\n",
    "        value=-150e6,\n",
    "        min_val=-380e6,\n",
    "        max_val=-120e6,\n",
    "        unit=\"Hz 2pi\",\n",
    "    ),\n",
    "    hilbert_dim=5,\n",
    ")\n",
    "\n",
    "drive = chip.Drive(\n",
    "    name=\"d1\",\n",
    "    desc=\"Drive 1\",\n",
    "    comment=\"Drive line 1 on qubit 1\",\n",
    "    connected=[\"Q1\"],\n",
    "    hamiltonian_func=hamiltonians.x_drive,\n",
    ")\n",
    "phys_components = [q1]\n",
    "line_components = [drive]\n",
    "\n",
    "model = Model(phys_components, line_components)\n",
    "model.set_dressed(True)"
   ]
  },
  {
   "cell_type": "code",
   "execution_count": 5,
   "metadata": {},
   "outputs": [],
   "source": [
    "parameter_map = ParameterMap(\n",
    "    instructions=[pulse_gate], model=model, generator=generator\n",
    ")\n",
    "\n",
    "# ### MAKE EXPERIMENT\n",
    "simulation = Experiment(pmap=parameter_map)"
   ]
  },
  {
   "cell_type": "code",
   "execution_count": 6,
   "metadata": {},
   "outputs": [],
   "source": [
    "gateset_opt_map =   [\n",
    "    [\n",
    "      (\"rx90p[0]\", \"d1\", \"pwc\", \"amp\"),\n",
    "    ],\n",
    "    [\n",
    "      (\"rx90p[0]\", \"d1\", \"pwc\", \"inphase\"),\n",
    "    ],\n",
    "    [\n",
    "      (\"rx90p[0]\", \"d1\", \"pwc\", \"quadrature\"),\n",
    "  ]\n",
    "]\n",
    "\n",
    "parameter_map.set_opt_map(gateset_opt_map)"
   ]
  },
  {
   "cell_type": "code",
   "execution_count": 7,
   "metadata": {},
   "outputs": [
    {
     "name": "stdout",
     "output_type": "stream",
     "text": [
      "rx90p[0]-d1-pwc-amp                   : 1.000 V \n",
      "rx90p[0]-d1-pwc-inphase               : 178.942 mV 910.971 mV 413.580 mV 302.991 mV -831.126 mV -305.492 mV 1.710 V -584.895 mV -1.684 V 1.837 V 981.789 mV -1.228 V -971.819 mV 933.462 mV \n",
      "rx90p[0]-d1-pwc-quadrature            : -121.327 mV -199.645 mV 202.616 mV 996.790 mV -46.131 mV -343.020 mV 551.584 mV -71.846 mV 470.491 mV -117.357 mV 591.651 mV 594.609 mV 387.548 mV -922.418 mV \n",
      "\n"
     ]
    }
   ],
   "source": [
    "parameter_map.print_parameters()"
   ]
  },
  {
   "cell_type": "code",
   "execution_count": 8,
   "metadata": {},
   "outputs": [],
   "source": [
    "import os\n",
    "import tempfile\n",
    "from c3.optimizers.optimalcontrol import OptimalControl\n",
    "from c3.libraries.fidelities import unitary_infid_set\n",
    "from c3.libraries.algorithms import lbfgs\n",
    "\n",
    "# Create a temporary directory to store logfiles, modify as needed\n",
    "log_dir = os.path.join(tempfile.TemporaryDirectory().name, \"c3logs\")\n",
    "\n",
    "opt = OptimalControl(\n",
    "    dir_path=log_dir,\n",
    "    fid_func=unitary_infid_set,\n",
    "    fid_subspace=[\"Q1\"],\n",
    "    pmap=parameter_map,\n",
    "    algorithm=lbfgs,\n",
    "    options={\"maxfun\" : 150},\n",
    "    run_name=\"better_X90\"\n",
    ")\n",
    "opt.set_exp(simulation)"
   ]
  },
  {
   "cell_type": "markdown",
   "metadata": {},
   "source": [
    "## Qiskit Interface"
   ]
  },
  {
   "cell_type": "code",
   "execution_count": 9,
   "metadata": {},
   "outputs": [],
   "source": [
    "from c3.qiskit import C3Provider\n",
    "from c3.qiskit.c3_gates import RX90pGate, SetParamsGate\n",
    "from qiskit import QuantumCircuit\n",
    "from qiskit.visualization import plot_histogram"
   ]
  },
  {
   "cell_type": "code",
   "execution_count": 10,
   "metadata": {},
   "outputs": [],
   "source": [
    "c3_qiskit = C3Provider()\n",
    "backend = c3_qiskit.get_backend(\"c3_qasm_physics_simulator\")\n",
    "backend.set_c3_experiment(deepcopy(simulation))"
   ]
  },
  {
   "cell_type": "code",
   "execution_count": 11,
   "metadata": {},
   "outputs": [
    {
     "data": {
      "text/html": [
       "<pre style=\"word-wrap: normal;white-space: pre;background: #fff0;line-height: 1.1;font-family: &quot;Courier New&quot;,Courier,monospace\">     ┌────────────┐\n",
       "  q: ┤ Rx90p(π/2) ├\n",
       "     └────────────┘\n",
       "c: 1/══════════════\n",
       "                   </pre>"
      ],
      "text/plain": [
       "     ┌────────────┐\n",
       "  q: ┤ Rx90p(π/2) ├\n",
       "     └────────────┘\n",
       "c: 1/══════════════\n",
       "                   "
      ]
     },
     "execution_count": 11,
     "metadata": {},
     "output_type": "execute_result"
    }
   ],
   "source": [
    "qc = QuantumCircuit(1, 1)\n",
    "qc.append(RX90pGate(), [0])\n",
    "qc.draw()"
   ]
  },
  {
   "cell_type": "code",
   "execution_count": 12,
   "metadata": {},
   "outputs": [],
   "source": [
    "job = backend.run(qc)"
   ]
  },
  {
   "cell_type": "code",
   "execution_count": 13,
   "metadata": {},
   "outputs": [
    {
     "data": {
      "image/png": "[encoded data removed]",
      "text/plain": [
       "<Figure size 504x360 with 1 Axes>"
      ]
     },
     "execution_count": 13,
     "metadata": {},
     "output_type": "execute_result"
    }
   ],
   "source": [
    "plot_histogram(job.result().data()['state_pops'], title='Simulation of Qiskit circuit with Pulse Gate (Unoptimized)')"
   ]
  },
  {
   "cell_type": "markdown",
   "metadata": {},
   "source": [
    "## Optimal Control"
   ]
  },
  {
   "cell_type": "code",
   "execution_count": 14,
   "metadata": {},
   "outputs": [
    {
     "data": {
      "text/plain": [
       "<tf.Tensor: shape=(29,), dtype=float64, numpy=\n",
       "array([-5.55111512e-16,  4.91433795e-02,  4.27125699e-01,  1.70298546e-01,\n",
       "        1.13196263e-01, -4.72404008e-01, -2.00993522e-01,  8.39778523e-01,\n",
       "       -3.45262506e-01, -9.13022995e-01,  9.05158823e-01,  4.63692561e-01,\n",
       "       -6.77193608e-01, -5.45050367e-01,  4.38738851e-01, -1.53691782e-01,\n",
       "       -2.27887029e-01,  1.53199382e-01,  9.05568050e-01, -8.24537723e-02,\n",
       "       -3.63715145e-01,  4.83797154e-01, -1.06815652e-01,  4.06973370e-01,\n",
       "       -1.49930398e-01,  5.21755755e-01,  5.24557452e-01,  3.28395756e-01,\n",
       "       -9.12613768e-01])>"
      ]
     },
     "execution_count": 14,
     "metadata": {},
     "output_type": "execute_result"
    }
   ],
   "source": [
    "parameter_map.get_parameters_scaled()"
   ]
  },
  {
   "cell_type": "code",
   "execution_count": 15,
   "metadata": {},
   "outputs": [
    {
     "name": "stdout",
     "output_type": "stream",
     "text": [
      "C3:STATUS:Saving as: /tmp/tmpdvwit0ug/c3logs/better_X90/2022_06_27_T_01_50_36/open_loop.c3log\n"
     ]
    }
   ],
   "source": [
    "opt.optimize_controls()"
   ]
  },
  {
   "cell_type": "code",
   "execution_count": 16,
   "metadata": {},
   "outputs": [
    {
     "data": {
      "text/plain": [
       "6.51083751312953e-06"
      ]
     },
     "execution_count": 16,
     "metadata": {},
     "output_type": "execute_result"
    }
   ],
   "source": [
    "opt.current_best_goal"
   ]
  },
  {
   "cell_type": "markdown",
   "metadata": {},
   "source": [
    "Evaluate a simple sequence to get the state populations"
   ]
  },
  {
   "cell_type": "code",
   "execution_count": 17,
   "metadata": {},
   "outputs": [],
   "source": [
    "import matplotlib.pyplot as plt\n",
    "def plot_controls(pmap):\n",
    "    for gate, instruction in pmap.instructions.items():\n",
    "        fig, axs = plt.subplots(2)\n",
    "        axs[0].set_title(gate.replace(\"_\", \"-\"))\n",
    "        legends = [[], []]\n",
    "        for chan, channel in instruction.comps.items():\n",
    "            for com, component in channel.items():\n",
    "                if \"t_final\" in component.params:\n",
    "                    ts = np.linspace(0, t_final, slices)\n",
    "                    shape = component.get_shape_values(ts)\n",
    "                    ax = axs[0]\n",
    "                    ax.plot(ts[:len(shape)]/1e-9, np.real(shape))\n",
    "                    ax.plot(ts[:len(shape)]/1e-9, np.imag(shape))\n",
    "                    legends[0].append((chan, com.replace(\"_\", \"-\"), \"I\"))\n",
    "                    legends[0].append((chan, com.replace(\"_\", \"-\"), \"Q\"))\n",
    "                    ax = axs[1]\n",
    "                    ax.plot(ts[:len(shape)]/1e-9, np.abs(shape))\n",
    "                    ax.plot(ts[:len(shape)]/1e-9, np.angle(shape))\n",
    "                    legends[1].append((chan, com.replace(\"_\", \"-\"), \"Abs\"))\n",
    "                    legends[1].append((chan, com.replace(\"_\", \"-\"), \"Phase\"))\n",
    "        ax = axs[0]\n",
    "        ax.legend(legends[0])\n",
    "        ax = axs[1]\n",
    "        ax.set_xlabel(\"Time [ns]\")\n",
    "        ax.set_ylabel(\"Amplitude [normalized]\")\n",
    "        ax.legend(legends[1])\n",
    "\n",
    "def plot_dynamics(exp, psi_init, seq, goal=-1):\n",
    "        \"\"\"\n",
    "        Plotting code for time-resolved populations.\n",
    "\n",
    "        Parameters\n",
    "        ----------\n",
    "        psi_init: tf.Tensor\n",
    "            Initial state or density matrix.\n",
    "        seq: list\n",
    "            List of operations to apply to the initial state.\n",
    "        goal: tf.float64\n",
    "            Value of the goal function, if used.\n",
    "        debug: boolean\n",
    "            If true, return a matplotlib figure instead of saving.\n",
    "        \"\"\"\n",
    "        model = exp.pmap.model\n",
    "        exp.compute_propagators()\n",
    "        dUs = exp.partial_propagators\n",
    "        psi_t = psi_init.numpy()\n",
    "        pop_t = exp.populations(psi_t, model.lindbladian)\n",
    "        for gate in seq:\n",
    "            for du in dUs[gate]:\n",
    "                psi_t = np.matmul(du.numpy(), psi_t)\n",
    "                pops = exp.populations(psi_t, model.lindbladian)\n",
    "                pop_t = np.append(pop_t, pops, axis=1)\n",
    "\n",
    "        fig, axs = plt.subplots(1, 1)\n",
    "        ts = exp.ts\n",
    "        dt = ts[1] - ts[0]\n",
    "        ts = np.linspace(0.0, dt*pop_t.shape[1], pop_t.shape[1])\n",
    "        axs.plot(ts / 1e-9, pop_t.T)\n",
    "        axs.grid(linestyle=\"--\")\n",
    "        axs.tick_params(\n",
    "            direction=\"in\", left=True, right=True, top=True, bottom=True\n",
    "        )\n",
    "        axs.set_xlabel('Time [ns]')\n",
    "        axs.set_ylabel('Population')\n",
    "        plt.legend(model.state_labels)\n",
    "        pass"
   ]
  },
  {
   "cell_type": "code",
   "execution_count": 18,
   "metadata": {},
   "outputs": [
    {
     "data": {
      "image/png": "[encoded data removed]",
      "text/plain": [
       "<Figure size 432x288 with 2 Axes>"
      ]
     },
     "metadata": {
      "needs_background": "light"
     },
     "output_type": "display_data"
    }
   ],
   "source": [
    "plot_controls(parameter_map)"
   ]
  },
  {
   "cell_type": "code",
   "execution_count": 19,
   "metadata": {
    "scrolled": true
   },
   "outputs": [
    {
     "data": {
      "image/png": "[encoded data removed]",
      "text/plain": [
       "<Figure size 432x288 with 1 Axes>"
      ]
     },
     "metadata": {
      "needs_background": "light"
     },
     "output_type": "display_data"
    }
   ],
   "source": [
    "plot_dynamics(simulation, model.get_init_state(), [\"rx90p[0]\"])"
   ]
  },
  {
   "cell_type": "markdown",
   "metadata": {},
   "source": [
    "## Updating the piecewise pulse description in qiskit"
   ]
  },
  {
   "cell_type": "markdown",
   "metadata": {},
   "source": [
    "We now use the `SetParamsGate` to update the pwc pulse description for the previously built qiskit circuit. This `SetParamsGate` must always be added only once and only at the end of the circuit. It can be used for updating the description of as many `Instructions` (and more generally as many c3 experiment `Parameter`s) as desired through a single instance of the gate. The updated parameter values is the first element and the paramater_map for this update is the second element in the list being passed to the `params` argument of the `SetParamsGate` below. "
   ]
  },
  {
   "cell_type": "code",
   "execution_count": 20,
   "metadata": {},
   "outputs": [
    {
     "data": {
      "text/plain": [
       "<qiskit.circuit.instructionset.InstructionSet at 0x7f8f4675b200>"
      ]
     },
     "execution_count": 20,
     "metadata": {},
     "output_type": "execute_result"
    }
   ],
   "source": [
    "qc.append(SetParamsGate(params=[[param.asdict() for param in parameter_map.get_parameters()], \n",
    "                                gateset_opt_map]), [0])"
   ]
  },
  {
   "cell_type": "code",
   "execution_count": 21,
   "metadata": {},
   "outputs": [],
   "source": [
    "job = backend.run(qc)"
   ]
  },
  {
   "cell_type": "code",
   "execution_count": 22,
   "metadata": {},
   "outputs": [
    {
     "data": {
      "image/png": "[encoded data removed]",
      "text/plain": [
       "<Figure size 504x360 with 1 Axes>"
      ]
     },
     "execution_count": 22,
     "metadata": {},
     "output_type": "execute_result"
    }
   ],
   "source": [
    "plot_histogram(job.result().data()['state_pops'], title='Simulation of Qiskit circuit with Pulse Gate (Optimized)')"
   ]
  }
 ],
 "metadata": {
  "interpreter": {
   "hash": "31f2aee4e71d21fbe5cf8b01ff0e069b9275f58929596ceb00d14d90e3e16cd6"
  },
  "kernelspec": {
   "display_name": "Python 3 (ipykernel)",
   "language": "python",
   "name": "python3"
  },
  "language_info": {
   "codemirror_mode": {
    "name": "ipython",
    "version": 3
   },
   "file_extension": ".py",
   "mimetype": "text/x-python",
   "name": "python",
   "nbconvert_exporter": "python",
   "pygments_lexer": "ipython3",
   "version": "3.8.12"
  }
 },
 "nbformat": 4,
 "nbformat_minor": 4
}
