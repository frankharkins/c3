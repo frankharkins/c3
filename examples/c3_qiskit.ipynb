{
 "cells": [
  {
   "cell_type": "markdown",
   "metadata": {},
   "source": [
    "# C3 Simulator as a backend for Qiskit Experiments"
   ]
  },
  {
   "cell_type": "markdown",
   "metadata": {},
   "source": [
    "This notebook demonstrates the use of the C3 Simulator with a high-level quantum programming framework [Qiskit](https://www.qiskit.org). You must additionally install qiskit and matplotlib to run this example."
   ]
  },
  {
   "cell_type": "code",
   "execution_count": 1,
   "metadata": {
    "tags": []
   },
   "outputs": [],
   "source": [
    "!pip install -q qiskit matplotlib"
   ]
  },
  {
   "cell_type": "code",
   "execution_count": 11,
   "metadata": {
    "tags": []
   },
   "outputs": [],
   "source": [
    "from pprint import pprint\n",
    "import numpy as np\n",
    "from c3.qiskit import C3Provider\n",
    "from c3.qiskit.c3_gates import RX90pGate\n",
    "from qiskit import transpile, QuantumCircuit\n",
    "from qiskit.providers.basic_provider import BasicSimulator\n",
    "from qiskit.visualization import plot_histogram"
   ]
  },
  {
   "cell_type": "markdown",
   "metadata": {},
   "source": [
    "## Define a basic Quantum circuit"
   ]
  },
  {
   "cell_type": "code",
   "execution_count": 12,
   "metadata": {
    "tags": []
   },
   "outputs": [
    {
     "data": {
      "text/plain": [
       "<qiskit.circuit.instructionset.InstructionSet at 0x7f0878218b00>"
      ]
     },
     "execution_count": 12,
     "metadata": {},
     "output_type": "execute_result"
    }
   ],
   "source": [
    "qc = QuantumCircuit(3)\n",
    "qc.append(RX90pGate(), [0])\n",
    "qc.append(RX90pGate(), [1])"
   ]
  },
  {
   "cell_type": "code",
   "execution_count": 13,
   "metadata": {
    "tags": []
   },
   "outputs": [
    {
     "data": {
      "text/html": [
       "<pre style=\"word-wrap: normal;white-space: pre;background: #fff0;line-height: 1.1;font-family: &quot;Courier New&quot;,Courier,monospace\">     ┌────────────┐\n",
       "q_0: ┤ Rx90p(π/2) ├\n",
       "     ├────────────┤\n",
       "q_1: ┤ Rx90p(π/2) ├\n",
       "     └────────────┘\n",
       "q_2: ──────────────\n",
       "                   </pre>"
      ],
      "text/plain": [
       "     ┌────────────┐\n",
       "q_0: ┤ Rx90p(π/2) ├\n",
       "     ├────────────┤\n",
       "q_1: ┤ Rx90p(π/2) ├\n",
       "     └────────────┘\n",
       "q_2: ──────────────\n",
       "                   "
      ]
     },
     "execution_count": 13,
     "metadata": {},
     "output_type": "execute_result"
    }
   ],
   "source": [
    "qc.draw()"
   ]
  },
  {
   "cell_type": "markdown",
   "metadata": {},
   "source": [
    "## Get the C3 Provider and Backend"
   ]
  },
  {
   "cell_type": "code",
   "execution_count": 14,
   "metadata": {
    "tags": []
   },
   "outputs": [],
   "source": [
    "c3_provider = C3Provider()\n",
    "c3_backend = c3_provider.get_backend(\"c3_qasm_physics_simulator\")"
   ]
  },
  {
   "cell_type": "code",
   "execution_count": 15,
   "metadata": {
    "tags": []
   },
   "outputs": [
    {
     "name": "stdout",
     "output_type": "stream",
     "text": [
      "Name: c3_qasm_physics_simulator\n",
      "Version: 0.1\n",
      "Max Qubits: 10\n",
      "OpenPulse Support: False\n",
      "Basis Gates: ['cx', 'rx']\n"
     ]
    }
   ],
   "source": [
    "config = c3_backend.configuration()\n",
    "\n",
    "print(\"Name: {0}\".format(config.backend_name))\n",
    "print(\"Version: {0}\".format(config.backend_version))\n",
    "print(\"Max Qubits: {0}\".format(config.n_qubits))\n",
    "print(\"OpenPulse Support: {0}\".format(config.open_pulse))\n",
    "print(\"Basis Gates: {0}\".format(config.basis_gates))"
   ]
  },
  {
   "cell_type": "markdown",
   "metadata": {},
   "source": [
    "## Run a physical device simulation using C3"
   ]
  },
  {
   "cell_type": "code",
   "execution_count": 16,
   "metadata": {
    "tags": []
   },
   "outputs": [],
   "source": [
    "c3_backend.set_device_config(\"qiskit.cfg\")\n",
    "c3_job = c3_backend.run(qc)\n",
    "result = c3_job.result()"
   ]
  },
  {
   "cell_type": "code",
   "execution_count": 17,
   "metadata": {
    "tags": []
   },
   "outputs": [
    {
     "name": "stdout",
     "output_type": "stream",
     "text": [
      "{'0': 0.2501927838288742,\n",
      " '1': 1.3433540939166752e-47,\n",
      " '10': 0.2749604122313709,\n",
      " '100': 0.2511657399090722,\n",
      " '101': 3.285567472819051e-34,\n",
      " '11': 8.48789239568126e-33,\n",
      " '110': 0.2236810640306745,\n",
      " '111': 4.031589164760562e-51}\n"
     ]
    }
   ],
   "source": [
    "res_counts = result.get_counts()\n",
    "pprint(res_counts)"
   ]
  },
  {
   "cell_type": "code",
   "execution_count": 18,
   "metadata": {
    "tags": []
   },
   "outputs": [
    {
     "data": {
      "image/png": "[encoded data removed]",
      "text/plain": [
       "<Figure size 504x360 with 1 Axes>"
      ]
     },
     "execution_count": 18,
     "metadata": {},
     "output_type": "execute_result"
    }
   ],
   "source": [
    "plot_histogram(res_counts, title='C3 Physical Device simulation')"
   ]
  },
  {
   "cell_type": "markdown",
   "metadata": {},
   "source": [
    "As we can see above, the c3 simulator correctly calculates the populations while accounting for non-optimal pulses and device limitations."
   ]
  },
  {
   "cell_type": "markdown",
   "metadata": {},
   "source": [
    "## Run Simulation and verify results on Qiskit simulator"
   ]
  },
  {
   "cell_type": "markdown",
   "metadata": {},
   "source": [
    "Qiskit uses little-endian bit ordering while most Quantum Computing literature uses big-endian. This is reflected in the reversed ordering of qubit labels here.\n",
    "\n",
    "Ref: [Basis Vector Ordering in Qiskit](https://qiskit.org/documentation/tutorials/circuits/3_summary_of_quantum_operations.html#Basis-vector-ordering-in-Qiskit)"
   ]
  },
  {
   "cell_type": "code",
   "execution_count": 19,
   "metadata": {},
   "outputs": [
    {
     "data": {
      "image/png": "[encoded data removed]",
      "text/plain": [
       "<Figure size 504x360 with 1 Axes>"
      ]
     },
     "execution_count": 19,
     "metadata": {},
     "output_type": "execute_result"
    }
   ],
   "source": [
    "qiskit_simulator = BasicSimulator()\n",
    "qc.measure_all()\n",
    "qc = transpile(qc, qiskit_simulator)\n",
    "qiskit_result = qiskit_simulator.run(qc, shots=1000).result()\n",
    "counts = qiskit_result.get_counts(qc)\n",
    "plot_histogram(counts, title='Qiskit simulation')"
   ]
  }
 ],
 "metadata": {
  "kernelspec": {
   "display_name": "Python 3 (ipykernel)",
   "language": "python",
   "name": "python3"
  },
  "language_info": {
   "codemirror_mode": {
    "name": "ipython",
    "version": 3
   },
   "file_extension": ".py",
   "mimetype": "text/x-python",
   "name": "python",
   "nbconvert_exporter": "python",
   "pygments_lexer": "ipython3",
   "version": "3.8.10"
  }
 },
 "nbformat": 4,
 "nbformat_minor": 4
}
